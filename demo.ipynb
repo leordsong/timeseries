{
 "cells": [
  {
   "cell_type": "markdown",
   "id": "2394869a",
   "metadata": {},
   "source": [
    "# Time-series Forecasting"
   ]
  },
  {
   "cell_type": "markdown",
   "id": "95c8db19",
   "metadata": {},
   "source": [
    "## Imports"
   ]
  },
  {
   "cell_type": "code",
   "execution_count": 83,
   "id": "cafabce8",
   "metadata": {},
   "outputs": [],
   "source": [
    "import os\n",
    "\n",
    "import tensorflow as tf\n",
    "from tensorflow.keras.layers import *\n",
    "from tensorflow.keras.models import Model, Sequential\n",
    "\n",
    "import pandas as pd\n",
    "import numpy as np\n",
    "import matplotlib.pyplot as plt\n",
    "\n",
    "from typing import List, Optional\n",
    "os.environ['CUDA_VISIBLE_DEVICES'] = '1'"
   ]
  },
  {
   "cell_type": "code",
   "execution_count": 2,
   "id": "176b1322",
   "metadata": {},
   "outputs": [],
   "source": [
    "packetLossRate = np.random.random((100,))\n",
    "jitter = np.arange(100)\n",
    "latency = np.random.random((100,))"
   ]
  },
  {
   "cell_type": "code",
   "execution_count": 204,
   "id": "6c21ee4f",
   "metadata": {},
   "outputs": [],
   "source": [
    "from datetime import datetime, timedelta\n",
    "\n",
    "current = datetime.now()\n",
    "times = [(current + timedelta(seconds=(i + i % 60 / 60))).strftime(\"%Y-%m-%d %H:%M:%S.%f\") for i in range(100)]"
   ]
  },
  {
   "cell_type": "code",
   "execution_count": 208,
   "id": "2d872401",
   "metadata": {},
   "outputs": [],
   "source": [
    "df = pd.DataFrame({\n",
    "    'packetLossRate': packetLossRate,\n",
    "    'jitter': jitter,\n",
    "    'latency': latency,\n",
    "    'timestamp': times\n",
    "})\n",
    "df['timestamp'] = pd.to_datetime(df['timestamp'])"
   ]
  },
  {
   "cell_type": "code",
   "execution_count": 209,
   "id": "136043ff",
   "metadata": {},
   "outputs": [
    {
     "data": {
      "text/html": [
       "<div>\n",
       "<style scoped>\n",
       "    .dataframe tbody tr th:only-of-type {\n",
       "        vertical-align: middle;\n",
       "    }\n",
       "\n",
       "    .dataframe tbody tr th {\n",
       "        vertical-align: top;\n",
       "    }\n",
       "\n",
       "    .dataframe thead th {\n",
       "        text-align: right;\n",
       "    }\n",
       "</style>\n",
       "<table border=\"1\" class=\"dataframe\">\n",
       "  <thead>\n",
       "    <tr style=\"text-align: right;\">\n",
       "      <th></th>\n",
       "      <th>packetLossRate</th>\n",
       "      <th>jitter</th>\n",
       "      <th>latency</th>\n",
       "      <th>timestamp</th>\n",
       "    </tr>\n",
       "  </thead>\n",
       "  <tbody>\n",
       "    <tr>\n",
       "      <th>0</th>\n",
       "      <td>0.668446</td>\n",
       "      <td>0</td>\n",
       "      <td>0.828346</td>\n",
       "      <td>2022-03-23 23:36:16.614210</td>\n",
       "    </tr>\n",
       "    <tr>\n",
       "      <th>1</th>\n",
       "      <td>0.014893</td>\n",
       "      <td>1</td>\n",
       "      <td>0.052994</td>\n",
       "      <td>2022-03-23 23:36:17.630877</td>\n",
       "    </tr>\n",
       "    <tr>\n",
       "      <th>2</th>\n",
       "      <td>0.557655</td>\n",
       "      <td>2</td>\n",
       "      <td>0.350046</td>\n",
       "      <td>2022-03-23 23:36:18.647543</td>\n",
       "    </tr>\n",
       "    <tr>\n",
       "      <th>3</th>\n",
       "      <td>0.186798</td>\n",
       "      <td>3</td>\n",
       "      <td>0.678243</td>\n",
       "      <td>2022-03-23 23:36:19.664210</td>\n",
       "    </tr>\n",
       "    <tr>\n",
       "      <th>4</th>\n",
       "      <td>0.528714</td>\n",
       "      <td>4</td>\n",
       "      <td>0.167260</td>\n",
       "      <td>2022-03-23 23:36:20.680877</td>\n",
       "    </tr>\n",
       "    <tr>\n",
       "      <th>...</th>\n",
       "      <td>...</td>\n",
       "      <td>...</td>\n",
       "      <td>...</td>\n",
       "      <td>...</td>\n",
       "    </tr>\n",
       "    <tr>\n",
       "      <th>95</th>\n",
       "      <td>0.182560</td>\n",
       "      <td>95</td>\n",
       "      <td>0.718027</td>\n",
       "      <td>2022-03-23 23:37:52.197543</td>\n",
       "    </tr>\n",
       "    <tr>\n",
       "      <th>96</th>\n",
       "      <td>0.456564</td>\n",
       "      <td>96</td>\n",
       "      <td>0.726335</td>\n",
       "      <td>2022-03-23 23:37:53.214210</td>\n",
       "    </tr>\n",
       "    <tr>\n",
       "      <th>97</th>\n",
       "      <td>0.898017</td>\n",
       "      <td>97</td>\n",
       "      <td>0.950072</td>\n",
       "      <td>2022-03-23 23:37:54.230877</td>\n",
       "    </tr>\n",
       "    <tr>\n",
       "      <th>98</th>\n",
       "      <td>0.939016</td>\n",
       "      <td>98</td>\n",
       "      <td>0.853480</td>\n",
       "      <td>2022-03-23 23:37:55.247543</td>\n",
       "    </tr>\n",
       "    <tr>\n",
       "      <th>99</th>\n",
       "      <td>0.876376</td>\n",
       "      <td>99</td>\n",
       "      <td>0.378370</td>\n",
       "      <td>2022-03-23 23:37:56.264210</td>\n",
       "    </tr>\n",
       "  </tbody>\n",
       "</table>\n",
       "<p>100 rows × 4 columns</p>\n",
       "</div>"
      ],
      "text/plain": [
       "    packetLossRate  jitter   latency                  timestamp\n",
       "0         0.668446       0  0.828346 2022-03-23 23:36:16.614210\n",
       "1         0.014893       1  0.052994 2022-03-23 23:36:17.630877\n",
       "2         0.557655       2  0.350046 2022-03-23 23:36:18.647543\n",
       "3         0.186798       3  0.678243 2022-03-23 23:36:19.664210\n",
       "4         0.528714       4  0.167260 2022-03-23 23:36:20.680877\n",
       "..             ...     ...       ...                        ...\n",
       "95        0.182560      95  0.718027 2022-03-23 23:37:52.197543\n",
       "96        0.456564      96  0.726335 2022-03-23 23:37:53.214210\n",
       "97        0.898017      97  0.950072 2022-03-23 23:37:54.230877\n",
       "98        0.939016      98  0.853480 2022-03-23 23:37:55.247543\n",
       "99        0.876376      99  0.378370 2022-03-23 23:37:56.264210\n",
       "\n",
       "[100 rows x 4 columns]"
      ]
     },
     "execution_count": 209,
     "metadata": {},
     "output_type": "execute_result"
    }
   ],
   "source": [
    "df"
   ]
  },
  {
   "cell_type": "code",
   "execution_count": 221,
   "id": "f3c179a7",
   "metadata": {},
   "outputs": [],
   "source": [
    "class WindowGenerator():\n",
    "\n",
    "    def __init__(self,\n",
    "                 input_width: int, label_width: int, offset: int,\n",
    "                 train_df, val_df, test_df,\n",
    "                 input_columns:Optional[List[str]]=None, label_columns:Optional[List[str]]=None,\n",
    "                 timestamp_column:str='timestamp'):\n",
    "        \"\"\"Create a new instance of WindowGenerator class\n",
    "\n",
    "        Args:\n",
    "            input_width (int): Length of input sequence.\n",
    "            label_width (int): Length of output sequence.\n",
    "            offset (int): Offset between input and output.\n",
    "            train_df (DataFrame): The data for training.\n",
    "            val_df (DataFrame): The data for validation.\n",
    "            test_df (DataFrame): The data for testing.\n",
    "            input_columns (Optional[List[str]], optional): Input column names. Defaults to None.\n",
    "            label_columns (Optional[List[str]], optional): Output column names. Defaults to None.\n",
    "            timestamp_column (str, optional): Name of the timestamp column. Defaults to 'timestamp'.\n",
    "        \"\"\"\n",
    "        \n",
    "        self.train_time = train_df.pop(timestamp_column)\n",
    "        self.val_time = val_df.pop(timestamp_column)\n",
    "        self.test_time = test_df.pop(timestamp_column)\n",
    "        \n",
    "        self.train_mean = train_df.mean()\n",
    "        self.train_std = train_df.std()\n",
    "\n",
    "        train_df = (train_df - self.train_mean) / self.train_std\n",
    "        val_df = (val_df - self.train_mean) / self.train_std\n",
    "        test_df = (test_df - self.train_mean) / self.train_std\n",
    "\n",
    "        # Store the raw data\n",
    "        self.train_df = train_df\n",
    "        self.train_index = np.arange(len(train_df)).reshape(-1, 1)\n",
    "        self.val_df = val_df\n",
    "        self.val_index = np.arange(len(val_df)).reshape(-1, 1)\n",
    "        self.test_df = test_df\n",
    "        self.test_index = np.arange(len(test_df)).reshape(-1, 1)\n",
    "\n",
    "        # Work out the label column indices.\n",
    "        self.input_columns = input_columns\n",
    "        self.label_columns = label_columns\n",
    "        self.timestamp_column = timestamp_column\n",
    "        if input_columns is not None:\n",
    "            self.input_columns_indices = {name: i for i, name in enumerate(input_columns)}\n",
    "        if label_columns is not None:\n",
    "            self.label_columns_indices = {name: i for i, name in enumerate(label_columns)}\n",
    "        self.columns = train_df.columns\n",
    "        self.column_indices = {name: i for i, name in enumerate(self.columns)}\n",
    "\n",
    "        # Work out the window parameters.\n",
    "        self.input_width = input_width\n",
    "        self.label_width = label_width\n",
    "        self.offset = offset\n",
    "\n",
    "        self.total_window_size = input_width + offset\n",
    "\n",
    "        self.input_slice = slice(0, input_width)\n",
    "        self.input_indices = np.arange(self.total_window_size)[self.input_slice]\n",
    "\n",
    "        self.label_start = self.total_window_size - self.label_width\n",
    "        self.labels_slice = slice(self.label_start, None)\n",
    "        self.label_indices = np.arange(self.total_window_size)[self.labels_slice]\n",
    "\n",
    "    def split_window(self, features):\n",
    "        indices = tf.expand_dims(features[:, :, -1], -1)\n",
    "        features = features[:, :, :-1]\n",
    "        inputs = features[:, self.input_slice, :]\n",
    "        labels = features[:, self.labels_slice, :]\n",
    "        \n",
    "        if self.input_columns is not None:\n",
    "            inputs = tf.stack(\n",
    "                [inputs[:, :, self.column_indices[name]] for name in self.input_columns],\n",
    "                axis=-1\n",
    "            )\n",
    "        if self.label_columns is not None:\n",
    "            labels = tf.stack(\n",
    "                [labels[:, :, self.column_indices[name]] for name in self.label_columns],\n",
    "                axis=-1\n",
    "            )\n",
    "\n",
    "        # Slicing doesn't preserve static shape information, so set the shapes\n",
    "        # # manually. This way the `tf.data.Datasets` are easier to inspect.\n",
    "        inputs.set_shape([None, self.input_width, len(self.input_columns if self.input_columns else self.columns)])\n",
    "        labels.set_shape([None, self.label_width, len(self.label_columns if self.label_columns else self.columns)])\n",
    "        indices.set_shape([None, self.total_window_size, 1])\n",
    "\n",
    "        return inputs, indices, labels\n",
    "    \n",
    "    def make_dataset(self, data, indices, batch, shuffle=True):\n",
    "        data = np.array(data, dtype=np.float32)\n",
    "        data = np.hstack([data, indices])\n",
    "\n",
    "        ds = tf.keras.utils.timeseries_dataset_from_array(\n",
    "            data=data,\n",
    "            targets=None,\n",
    "            sequence_length=self.total_window_size,\n",
    "            sequence_stride=1,\n",
    "            shuffle=shuffle,\n",
    "            batch_size=batch\n",
    "        )\n",
    "\n",
    "        ds = ds.map(self.split_window)\n",
    "\n",
    "        return ds\n",
    "\n",
    "    def train(self, batch=32):\n",
    "        return self.make_dataset(self.train_df, self.train_index, batch)\n",
    "\n",
    "    def val(self, batch=32):\n",
    "        return self.make_dataset(self.val_df, self.val_index, batch)\n",
    "\n",
    "    def test(self, batch=32):\n",
    "        return self.make_dataset(self.test_df, self.test_index, batch, False)\n",
    "\n",
    "    def plot(self, model, plot_col='packetLossRate', max_subplots=3):\n",
    "        inputs, indices, labels = next(iter(self.test().take(1)))\n",
    "        indices = tf.squeeze(indices, axis=-1)\n",
    "        \n",
    "        plt.figure(figsize=(12, 8))\n",
    "        plot_col_index = self.column_indices[plot_col]\n",
    "        input_col_index = self.input_columns_indices.get(plot_col, None) if self.input_columns else plot_col_index\n",
    "        assert input_col_index is not None\n",
    "        max_n = min(max_subplots, len(inputs))\n",
    "\n",
    "        name = None\n",
    "        for n in range(max_n):\n",
    "            plt.subplot(max_n, 1, n+1)\n",
    "            plt.ylabel(plot_col)\n",
    "            sub_indices = indices[n, ::5]\n",
    "            if n == 0:\n",
    "                name = self.test_time[sub_indices][0].strftime(\"%Y-%m-%d %H:%M\")\n",
    "            sub_times = [x.strftime(\"%S\") for x in self.test_time[sub_indices]]\n",
    "            sub_ticks = np.arange(self.total_window_size)[::5]\n",
    "            plt.xticks(sub_ticks, sub_times)\n",
    "            values = inputs[n, :, input_col_index] * self.train_std[plot_col] + self.train_mean[plot_col]\n",
    "            plt.plot(self.input_indices, values,\n",
    "                    label='Inputs', marker='.', zorder=-10)\n",
    "\n",
    "            if self.label_columns:\n",
    "                label_col_index = self.label_columns_indices.get(plot_col, None)\n",
    "            else:\n",
    "                label_col_index = plot_col_index\n",
    "\n",
    "            if label_col_index is None:\n",
    "                continue\n",
    "\n",
    "            values = labels[n, :, label_col_index] * self.train_std[plot_col] + self.train_mean[plot_col]\n",
    "            plt.scatter(self.label_indices, values,\n",
    "                        edgecolors='k', label='Labels', c='#2ca02c', s=64)\n",
    "            if model is not None:\n",
    "                predictions = model(inputs)\n",
    "                values = predictions[n, :, label_col_index] * self.train_std[plot_col] + self.train_mean[plot_col]\n",
    "                plt.scatter(self.label_indices, values,\n",
    "                            marker='X', edgecolors='k', label='Predictions',\n",
    "                            c='#ff7f0e', s=64)\n",
    "\n",
    "            if n == 0:\n",
    "                plt.legend()\n",
    "\n",
    "        plt.xlabel('Time ' + name + ' [s]')\n",
    "\n",
    "    def __repr__(self):\n",
    "        return '\\n'.join([\n",
    "            f'Total window size: {self.total_window_size}',\n",
    "            f'Input indices: {self.input_indices}',\n",
    "            f'Label indices: {self.label_indices}',\n",
    "            f'Input column name(s): {self.input_columns if self.input_columns else self.columns}',\n",
    "            f'Label column name(s): {self.label_columns if self.label_columns else self.columns}'\n",
    "        ])\n"
   ]
  },
  {
   "cell_type": "code",
   "execution_count": 222,
   "id": "e4e9b269",
   "metadata": {},
   "outputs": [
    {
     "data": {
      "text/plain": [
       "Total window size: 30\n",
       "Input indices: [ 0  1  2  3  4  5  6  7  8  9 10 11 12 13 14 15 16 17 18 19]\n",
       "Label indices: [25 26 27 28 29]\n",
       "Input column name(s): Index(['packetLossRate', 'jitter', 'latency'], dtype='object')\n",
       "Label column name(s): ['packetLossRate', 'jitter']"
      ]
     },
     "execution_count": 222,
     "metadata": {},
     "output_type": "execute_result"
    }
   ],
   "source": [
    "s1 = WindowGenerator(20, 5, 10, train_df=df.copy(), val_df=df.copy(), test_df=df.copy(), label_columns=['packetLossRate', 'jitter'])\n",
    "s1"
   ]
  },
  {
   "cell_type": "code",
   "execution_count": 171,
   "id": "753e6f94",
   "metadata": {},
   "outputs": [
    {
     "name": "stdout",
     "output_type": "stream",
     "text": [
      "(32, 20, 3) (32, 5, 1) (32, 5, 2)\n",
      "(32, 20, 3) (32, 5, 1) (32, 5, 2)\n"
     ]
    }
   ],
   "source": [
    "for inputs, indices, outputs in s1.test().take(2):\n",
    "    print(inputs.shape, indices.shape, outputs.shape)"
   ]
  },
  {
   "cell_type": "code",
   "execution_count": 223,
   "id": "6787128c",
   "metadata": {},
   "outputs": [
    {
     "name": "stdout",
     "output_type": "stream",
     "text": [
      "Model: \"sequential_15\"\n",
      "_________________________________________________________________\n",
      " Layer (type)                Output Shape              Param #   \n",
      "=================================================================\n",
      " lstm_15 (LSTM)              (None, 20, 128)           67584     \n",
      "                                                                 \n",
      " dense_15 (Dense)            (None, 20, 2)             258       \n",
      "                                                                 \n",
      " cropping1d_7 (Cropping1D)   (None, 5, 2)              0         \n",
      "                                                                 \n",
      "=================================================================\n",
      "Total params: 67,842\n",
      "Trainable params: 67,842\n",
      "Non-trainable params: 0\n",
      "_________________________________________________________________\n"
     ]
    }
   ],
   "source": [
    "model = tf.keras.models.Sequential([\n",
    "    tf.keras.layers.Input((20, 3)),\n",
    "    tf.keras.layers.LSTM(128, return_sequences=True),\n",
    "    tf.keras.layers.Dense(2),\n",
    "    tf.keras.layers.Cropping1D(cropping=(15, 0))\n",
    "])\n",
    "model.summary()"
   ]
  },
  {
   "cell_type": "code",
   "execution_count": 224,
   "id": "b0e8d910",
   "metadata": {},
   "outputs": [],
   "source": [
    "model.compile(loss='mse', optimizer='adam')"
   ]
  },
  {
   "cell_type": "code",
   "execution_count": 225,
   "id": "dbcb513f",
   "metadata": {},
   "outputs": [
    {
     "data": {
      "text/plain": [
       "<MapDataset element_spec=(TensorSpec(shape=(None, 20, 3), dtype=tf.float64, name=None), TensorSpec(shape=(None, 5, 2), dtype=tf.float64, name=None))>"
      ]
     },
     "execution_count": 225,
     "metadata": {},
     "output_type": "execute_result"
    }
   ],
   "source": [
    "train_data = s1.train().map(lambda x,y,z: (x, z))\n",
    "train_data"
   ]
  },
  {
   "cell_type": "code",
   "execution_count": 226,
   "id": "1b3f8782",
   "metadata": {},
   "outputs": [
    {
     "name": "stdout",
     "output_type": "stream",
     "text": [
      "Epoch 1/20\n",
      "3/3 [==============================] - 2s 14ms/step - loss: 0.7799\n",
      "Epoch 2/20\n",
      "3/3 [==============================] - 0s 11ms/step - loss: 0.6457\n",
      "Epoch 3/20\n",
      "3/3 [==============================] - 0s 10ms/step - loss: 0.5608\n",
      "Epoch 4/20\n",
      "3/3 [==============================] - 0s 9ms/step - loss: 0.5362\n",
      "Epoch 5/20\n",
      "3/3 [==============================] - 0s 9ms/step - loss: 0.5129\n",
      "Epoch 6/20\n",
      "3/3 [==============================] - 0s 9ms/step - loss: 0.4916\n",
      "Epoch 7/20\n",
      "3/3 [==============================] - 0s 9ms/step - loss: 0.4915\n",
      "Epoch 8/20\n",
      "3/3 [==============================] - 0s 9ms/step - loss: 0.4884\n",
      "Epoch 9/20\n",
      "3/3 [==============================] - 0s 9ms/step - loss: 0.4852\n",
      "Epoch 10/20\n",
      "3/3 [==============================] - 0s 9ms/step - loss: 0.4865\n",
      "Epoch 11/20\n",
      "3/3 [==============================] - 0s 9ms/step - loss: 0.4829\n",
      "Epoch 12/20\n",
      "3/3 [==============================] - 0s 9ms/step - loss: 0.4794\n",
      "Epoch 13/20\n",
      "3/3 [==============================] - 0s 9ms/step - loss: 0.4785\n",
      "Epoch 14/20\n",
      "3/3 [==============================] - 0s 9ms/step - loss: 0.4764\n",
      "Epoch 15/20\n",
      "3/3 [==============================] - 0s 10ms/step - loss: 0.4735\n",
      "Epoch 16/20\n",
      "3/3 [==============================] - 0s 9ms/step - loss: 0.4765\n",
      "Epoch 17/20\n",
      "3/3 [==============================] - 0s 9ms/step - loss: 0.4742\n",
      "Epoch 18/20\n",
      "3/3 [==============================] - 0s 9ms/step - loss: 0.4692\n",
      "Epoch 19/20\n",
      "3/3 [==============================] - 0s 9ms/step - loss: 0.4715\n",
      "Epoch 20/20\n",
      "3/3 [==============================] - 0s 9ms/step - loss: 0.4685\n"
     ]
    },
    {
     "data": {
      "text/plain": [
       "<keras.callbacks.History at 0x7fbe4c2750d0>"
      ]
     },
     "execution_count": 226,
     "metadata": {},
     "output_type": "execute_result"
    }
   ],
   "source": [
    "model.fit(train_data, epochs=20)"
   ]
  },
  {
   "cell_type": "code",
   "execution_count": 227,
   "id": "c9261c83",
   "metadata": {},
   "outputs": [
    {
     "data": {
      "image/png": "[encoded data removed]",
      "text/plain": [
       "<Figure size 864x576 with 3 Axes>"
      ]
     },
     "metadata": {
      "needs_background": "light"
     },
     "output_type": "display_data"
    }
   ],
   "source": [
    "s1.plot(model)"
   ]
  }
 ],
 "metadata": {
  "interpreter": {
   "hash": "d0bf09a726407397ec11f6c0c8eeb4fae014d83512e81b664f6dece1ce059762"
  },
  "kernelspec": {
   "display_name": "Python [conda env:timeseries]",
   "language": "python",
   "name": "python3"
  },
  "language_info": {
   "codemirror_mode": {
    "name": "ipython",
    "version": 3
   },
   "file_extension": ".py",
   "mimetype": "text/x-python",
   "name": "python",
   "nbconvert_exporter": "python",
   "pygments_lexer": "ipython3",
   "version": "3.8.12"
  }
 },
 "nbformat": 4,
 "nbformat_minor": 5
}
